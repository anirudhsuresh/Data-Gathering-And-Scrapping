{
  "nbformat": 4,
  "nbformat_minor": 0,
  "metadata": {
    "colab": {
      "name": "HW_1_ECS189L.ipynb",
      "provenance": [],
      "collapsed_sections": [
        "1G8OIaFndhRo",
        "7pC4DI1edniG",
        "UkCFs6bTebSk",
        "WX5TGmCqelah",
        "omeWSakherpW",
        "qSbWlDMeevED"
      ]
    },
    "kernelspec": {
      "name": "python3",
      "display_name": "Python 3"
    }
  },
  "cells": [
    {
      "cell_type": "markdown",
      "metadata": {
        "id": "qLOb7YT3fTMQ"
      },
      "source": [
        "#### ANIRUDH SURESH RAMCHANDRAN \n",
        "#### STUDENT ID:917868539"
      ]
    },
    {
      "cell_type": "markdown",
      "metadata": {
        "id": "e0rU9X5BsSIB"
      },
      "source": [
        "# HW1: Data Gathering"
      ]
    },
    {
      "cell_type": "markdown",
      "metadata": {
        "id": "oipS85D7cvlF"
      },
      "source": [
        "## 1. DATA SCRAPING"
      ]
    },
    {
      "cell_type": "markdown",
      "metadata": {
        "id": "ZAGz1DJasRfV"
      },
      "source": [
        "- Necessary imports "
      ]
    },
    {
      "cell_type": "code",
      "metadata": {
        "id": "4jGpgZX7sLL9"
      },
      "source": [
        "from bs4 import BeautifulSoup \n",
        "import requests\n",
        "from IPython.core.display import HTML\n",
        "import pandas as pd\n",
        "import seaborn as sns \n",
        "import matplotlib.pyplot as plt\n",
        "import warnings"
      ],
      "execution_count": 1,
      "outputs": []
    },
    {
      "cell_type": "markdown",
      "metadata": {
        "id": "SZSztlrcsZv9"
      },
      "source": [
        "URL for web pages "
      ]
    },
    {
      "cell_type": "code",
      "metadata": {
        "id": "fwhpS8DxsYnV"
      },
      "source": [
        "url=\"https://www.imdb.com/list/ls068082370/\"\n",
        "r=requests.get(url)\n",
        "r.text\n",
        "soup=BeautifulSoup(r.text,'html.parser')"
      ],
      "execution_count": 2,
      "outputs": []
    },
    {
      "cell_type": "code",
      "metadata": {
        "id": "GKzCJS2rs4CB"
      },
      "source": [
        "Movies=[]\n",
        "Year=[]\n",
        "Ratings=[]\n",
        "Genre=[]\n",
        "Director=[]\n",
        "Votes=[]\n",
        "imdb=[]"
      ],
      "execution_count": 3,
      "outputs": []
    },
    {
      "cell_type": "code",
      "metadata": {
        "id": "2tLqDufytIMJ"
      },
      "source": [
        "table = soup.find('div', class_='lister-list')"
      ],
      "execution_count": 4,
      "outputs": []
    },
    {
      "cell_type": "code",
      "metadata": {
        "id": "kfRdgBtJtf0Z",
        "outputId": "6f59bf8e-3220-4ed1-facc-00bd4e98413f",
        "colab": {
          "base_uri": "https://localhost:8080/",
          "height": 34
        }
      },
      "source": [
        "movies=table.find_all('div', class_='lister-item mode-detail')\n",
        "len(movies)"
      ],
      "execution_count": 5,
      "outputs": [
        {
          "output_type": "execute_result",
          "data": {
            "text/plain": [
              "100"
            ]
          },
          "metadata": {
            "tags": []
          },
          "execution_count": 5
        }
      ]
    },
    {
      "cell_type": "code",
      "metadata": {
        "id": "CPb_DOAHvh06"
      },
      "source": [
        "# name of the movie parsing\n",
        "def name_parsing(movie):\n",
        "  temp_1=movie.find('h3', class_='lister-item-header')\n",
        "  m_name=temp_1.find('a').text\n",
        "  # since year is in class lister-item-header\n",
        "  year_temp=temp_1.find('span',class_='lister-item-year text-muted unbold').text\n",
        "  return m_name"
      ],
      "execution_count": 6,
      "outputs": []
    },
    {
      "cell_type": "code",
      "metadata": {
        "id": "VUEhIlk2DENw"
      },
      "source": [
        "def year_parsing(movie):  \n",
        "  temp_1=movie.find('h3', class_='lister-item-header')\n",
        "  # since year is in class lister-item-header\n",
        "  year_temp=temp_1.find('span',class_='lister-item-year text-muted unbold').text\n",
        "  return year_temp"
      ],
      "execution_count": 7,
      "outputs": []
    },
    {
      "cell_type": "code",
      "metadata": {
        "id": "C4shy8z1IiPd"
      },
      "source": [
        "def votes_parsing(movie):\n",
        "  c=movie.find('span',attrs={'name':'nv'})\n",
        "  v=c['data-value']\n",
        "  return v"
      ],
      "execution_count": 8,
      "outputs": []
    },
    {
      "cell_type": "code",
      "metadata": {
        "id": "lTwnEYmXwHnT"
      },
      "source": [
        "# ratings parsing\n",
        "def rating_parsing(movie):\n",
        "  ra=movie.find('span',class_='ipl-rating-star__rating')\n",
        "  r=ra.text\n",
        "  return r"
      ],
      "execution_count": 9,
      "outputs": []
    },
    {
      "cell_type": "code",
      "metadata": {
        "id": "xCzRtd6hzjsj"
      },
      "source": [
        "# director parsing \n",
        "def director_parsing(movie):\n",
        "  l=movie.find_all('p',class_='text-muted text-small')[1]\n",
        "  d=l.find('a').text\n",
        "  return d\n"
      ],
      "execution_count": 10,
      "outputs": []
    },
    {
      "cell_type": "code",
      "metadata": {
        "id": "QeQFE4RlzkE7"
      },
      "source": [
        "# genre parsing \n",
        "def genre_parsing(movie):\n",
        "  temp_g=movie.find('p',class_=\"text-muted text-small\")\n",
        "  g_a=temp_g.find('span' ,class_=\"genre\")\n",
        "  g_a=g_a.get_text()\n",
        "  g_a=g_a.split()\n",
        "  if len(g_a)>1:\n",
        "    g_new=g_a[0]\n",
        "  else:\n",
        "    g_new=g_a[0]\n",
        "  return g_new"
      ],
      "execution_count": 11,
      "outputs": []
    },
    {
      "cell_type": "code",
      "metadata": {
        "id": "GLRQuglA7mkd"
      },
      "source": [
        "def movie_table_gen(movies):\n",
        "  for movie in movies:\n",
        "    imdb.append(dict(Movies=name_parsing(movie),\n",
        "                    Genre=genre_parsing(movie),\n",
        "                    Year=year_parsing(movie),\n",
        "                    Ratings=rating_parsing(movie),\n",
        "                    Director=director_parsing(movie),\n",
        "                    Votes=votes_parsing(movie)\n",
        "                    ))\n",
        "  \n",
        "\n"
      ],
      "execution_count": 12,
      "outputs": []
    },
    {
      "cell_type": "code",
      "metadata": {
        "id": "9giM8IWyC3xU"
      },
      "source": [
        "url_page_2=\"https://www.imdb.com/list/ls068082370/?sort=list_order,asc&st_dt=&mode=detail&page=2\"\n",
        "r_2=requests.get(url_page_2)\n",
        "soup_2=BeautifulSoup(r_2.text,'html.parser')\n",
        "# print(soup.prettify()[])\n",
        "# r_2.text\n",
        "table_2 = soup_2.find('div', class_='lister-list')\n",
        "movies_2=table_2.find_all('div', class_='lister-item mode-detail')"
      ],
      "execution_count": 13,
      "outputs": []
    },
    {
      "cell_type": "code",
      "metadata": {
        "id": "jA_XKBxaKkkc"
      },
      "source": [
        "url_page_3=\"https://www.imdb.com/list/ls068082370/?sort=list_order,asc&st_dt=&mode=detail&page=3\"\n",
        "r_3=requests.get(url_page_3)\n",
        "soup_3=BeautifulSoup(r_3.text,'lxml')\n",
        "table_3 = soup_3.find('div', class_='lister-list')\n",
        "movies_3=table_3.find_all('div', class_='lister-item mode-detail')\n"
      ],
      "execution_count": 14,
      "outputs": []
    },
    {
      "cell_type": "code",
      "metadata": {
        "id": "u1a-4MEEC8U5"
      },
      "source": [
        "movie_table_gen(movies)"
      ],
      "execution_count": 15,
      "outputs": []
    },
    {
      "cell_type": "code",
      "metadata": {
        "id": "UVkfs6hRC9PB"
      },
      "source": [
        "movie_table_gen(movies_2)"
      ],
      "execution_count": 16,
      "outputs": []
    },
    {
      "cell_type": "code",
      "metadata": {
        "id": "AJ_9D9o-LCBZ"
      },
      "source": [
        "movie_table_gen(movies_3)"
      ],
      "execution_count": 17,
      "outputs": []
    },
    {
      "cell_type": "code",
      "metadata": {
        "id": "dRWmR5W2K5gR"
      },
      "source": [
        "df = pd.DataFrame(imdb)"
      ],
      "execution_count": 18,
      "outputs": []
    },
    {
      "cell_type": "code",
      "metadata": {
        "id": "9zpp2yaqLA1B",
        "outputId": "a4c43c19-be6f-4d23-8ff1-ac18b95b4b13",
        "colab": {
          "base_uri": "https://localhost:8080/",
          "height": 204
        }
      },
      "source": [
        "df.head()"
      ],
      "execution_count": 19,
      "outputs": [
        {
          "output_type": "execute_result",
          "data": {
            "text/html": [
              "<div>\n",
              "<style scoped>\n",
              "    .dataframe tbody tr th:only-of-type {\n",
              "        vertical-align: middle;\n",
              "    }\n",
              "\n",
              "    .dataframe tbody tr th {\n",
              "        vertical-align: top;\n",
              "    }\n",
              "\n",
              "    .dataframe thead th {\n",
              "        text-align: right;\n",
              "    }\n",
              "</style>\n",
              "<table border=\"1\" class=\"dataframe\">\n",
              "  <thead>\n",
              "    <tr style=\"text-align: right;\">\n",
              "      <th></th>\n",
              "      <th>Movies</th>\n",
              "      <th>Genre</th>\n",
              "      <th>Year</th>\n",
              "      <th>Ratings</th>\n",
              "      <th>Director</th>\n",
              "      <th>Votes</th>\n",
              "    </tr>\n",
              "  </thead>\n",
              "  <tbody>\n",
              "    <tr>\n",
              "      <th>0</th>\n",
              "      <td>The Shawshank Redemption</td>\n",
              "      <td>Drama</td>\n",
              "      <td>(1994)</td>\n",
              "      <td>9.3</td>\n",
              "      <td>Frank Darabont</td>\n",
              "      <td>2295357</td>\n",
              "    </tr>\n",
              "    <tr>\n",
              "      <th>1</th>\n",
              "      <td>The Godfather</td>\n",
              "      <td>Crime,</td>\n",
              "      <td>(1972)</td>\n",
              "      <td>9.2</td>\n",
              "      <td>Francis Ford Coppola</td>\n",
              "      <td>1584430</td>\n",
              "    </tr>\n",
              "    <tr>\n",
              "      <th>2</th>\n",
              "      <td>The Dark Knight</td>\n",
              "      <td>Action,</td>\n",
              "      <td>(2008)</td>\n",
              "      <td>9</td>\n",
              "      <td>Christopher Nolan</td>\n",
              "      <td>2260143</td>\n",
              "    </tr>\n",
              "    <tr>\n",
              "      <th>3</th>\n",
              "      <td>The Godfather: Part II</td>\n",
              "      <td>Crime,</td>\n",
              "      <td>(1974)</td>\n",
              "      <td>9</td>\n",
              "      <td>Francis Ford Coppola</td>\n",
              "      <td>1106984</td>\n",
              "    </tr>\n",
              "    <tr>\n",
              "      <th>4</th>\n",
              "      <td>Pulp Fiction</td>\n",
              "      <td>Crime,</td>\n",
              "      <td>(1994)</td>\n",
              "      <td>8.9</td>\n",
              "      <td>Quentin Tarantino</td>\n",
              "      <td>1792527</td>\n",
              "    </tr>\n",
              "  </tbody>\n",
              "</table>\n",
              "</div>"
            ],
            "text/plain": [
              "                     Movies    Genre  ...              Director    Votes\n",
              "0  The Shawshank Redemption    Drama  ...        Frank Darabont  2295357\n",
              "1             The Godfather   Crime,  ...  Francis Ford Coppola  1584430\n",
              "2           The Dark Knight  Action,  ...     Christopher Nolan  2260143\n",
              "3    The Godfather: Part II   Crime,  ...  Francis Ford Coppola  1106984\n",
              "4              Pulp Fiction   Crime,  ...     Quentin Tarantino  1792527\n",
              "\n",
              "[5 rows x 6 columns]"
            ]
          },
          "metadata": {
            "tags": []
          },
          "execution_count": 19
        }
      ]
    },
    {
      "cell_type": "code",
      "metadata": {
        "id": "W88T1AVZPY9i",
        "outputId": "01b1a437-81a5-4e39-aa25-cb9ac9ceaa1f",
        "colab": {
          "base_uri": "https://localhost:8080/",
          "height": 136
        }
      },
      "source": [
        "df.dtypes"
      ],
      "execution_count": 20,
      "outputs": [
        {
          "output_type": "execute_result",
          "data": {
            "text/plain": [
              "Movies      object\n",
              "Genre       object\n",
              "Year        object\n",
              "Ratings     object\n",
              "Director    object\n",
              "Votes       object\n",
              "dtype: object"
            ]
          },
          "metadata": {
            "tags": []
          },
          "execution_count": 20
        }
      ]
    },
    {
      "cell_type": "markdown",
      "metadata": {
        "id": "VdGtxzZldEsc"
      },
      "source": [
        "- getting rid of commas ,\\n and other characters"
      ]
    },
    {
      "cell_type": "code",
      "metadata": {
        "id": "e1ytUjf5Ya0-"
      },
      "source": [
        "sp_char=[\"(\",\")\",\"\\n\"]\n",
        "for char in sp_char:\n",
        "  df['Year']=df['Year'].str.replace(char,'')\n",
        "  # df['Genre']=df['Genre'].str.replace(char,'')\n",
        "sp_char=[',']\n",
        "for char in sp_char:\n",
        "  df['Genre']=df['Genre'].str.replace(char,'')  "
      ],
      "execution_count": 21,
      "outputs": []
    },
    {
      "cell_type": "markdown",
      "metadata": {
        "id": "sE8pbratdN27"
      },
      "source": [
        "I noticed while parisng that some of the years had a weird 'I' along with the year so i had to remove them "
      ]
    },
    {
      "cell_type": "code",
      "metadata": {
        "id": "sm9f7241QnAo"
      },
      "source": [
        "df['Year'].replace(['I 2008'],'2008', inplace=True)\n",
        "df['Year'].replace(['I 2015'],'2015', inplace=True)\n",
        "df['Year'].replace(['I 2013'],'2013', inplace=True)"
      ],
      "execution_count": 22,
      "outputs": []
    },
    {
      "cell_type": "code",
      "metadata": {
        "id": "77mniMeKPN0Z",
        "outputId": "3c4bdb30-59df-4868-9961-9cc19f05b557",
        "colab": {
          "base_uri": "https://localhost:8080/",
          "height": 71
        }
      },
      "source": [
        "df.Name = df.Movies.astype(str)\n",
        "df.Genre = df.Genre.astype('category')\n",
        "df.Year = df.Year.astype(int)\n",
        "df.Ratings = df.Ratings.astype('float64')\n",
        "df.Director = df.Director.astype(str)\n",
        "df.Votes = df.Votes.astype(int)"
      ],
      "execution_count": 23,
      "outputs": [
        {
          "output_type": "stream",
          "text": [
            "/usr/local/lib/python3.6/dist-packages/ipykernel_launcher.py:1: UserWarning: Pandas doesn't allow columns to be created via a new attribute name - see https://pandas.pydata.org/pandas-docs/stable/indexing.html#attribute-access\n",
            "  \"\"\"Entry point for launching an IPython kernel.\n"
          ],
          "name": "stderr"
        }
      ]
    },
    {
      "cell_type": "code",
      "metadata": {
        "id": "B4xTW45rXJmm"
      },
      "source": [
        "df.Genre = df.Genre.astype('category')"
      ],
      "execution_count": 24,
      "outputs": []
    },
    {
      "cell_type": "code",
      "metadata": {
        "id": "7a1xGspyRhd6"
      },
      "source": [
        "df.Ratings=df.Ratings.astype('float64')"
      ],
      "execution_count": 25,
      "outputs": []
    },
    {
      "cell_type": "code",
      "metadata": {
        "id": "cESdQjRgR6g0",
        "outputId": "e8c0bbad-1a3b-4804-91dc-9273826f9082",
        "colab": {
          "base_uri": "https://localhost:8080/",
          "height": 204
        }
      },
      "source": [
        "df.head()"
      ],
      "execution_count": 26,
      "outputs": [
        {
          "output_type": "execute_result",
          "data": {
            "text/html": [
              "<div>\n",
              "<style scoped>\n",
              "    .dataframe tbody tr th:only-of-type {\n",
              "        vertical-align: middle;\n",
              "    }\n",
              "\n",
              "    .dataframe tbody tr th {\n",
              "        vertical-align: top;\n",
              "    }\n",
              "\n",
              "    .dataframe thead th {\n",
              "        text-align: right;\n",
              "    }\n",
              "</style>\n",
              "<table border=\"1\" class=\"dataframe\">\n",
              "  <thead>\n",
              "    <tr style=\"text-align: right;\">\n",
              "      <th></th>\n",
              "      <th>Movies</th>\n",
              "      <th>Genre</th>\n",
              "      <th>Year</th>\n",
              "      <th>Ratings</th>\n",
              "      <th>Director</th>\n",
              "      <th>Votes</th>\n",
              "    </tr>\n",
              "  </thead>\n",
              "  <tbody>\n",
              "    <tr>\n",
              "      <th>0</th>\n",
              "      <td>The Shawshank Redemption</td>\n",
              "      <td>Drama</td>\n",
              "      <td>1994</td>\n",
              "      <td>9.3</td>\n",
              "      <td>Frank Darabont</td>\n",
              "      <td>2295357</td>\n",
              "    </tr>\n",
              "    <tr>\n",
              "      <th>1</th>\n",
              "      <td>The Godfather</td>\n",
              "      <td>Crime</td>\n",
              "      <td>1972</td>\n",
              "      <td>9.2</td>\n",
              "      <td>Francis Ford Coppola</td>\n",
              "      <td>1584430</td>\n",
              "    </tr>\n",
              "    <tr>\n",
              "      <th>2</th>\n",
              "      <td>The Dark Knight</td>\n",
              "      <td>Action</td>\n",
              "      <td>2008</td>\n",
              "      <td>9.0</td>\n",
              "      <td>Christopher Nolan</td>\n",
              "      <td>2260143</td>\n",
              "    </tr>\n",
              "    <tr>\n",
              "      <th>3</th>\n",
              "      <td>The Godfather: Part II</td>\n",
              "      <td>Crime</td>\n",
              "      <td>1974</td>\n",
              "      <td>9.0</td>\n",
              "      <td>Francis Ford Coppola</td>\n",
              "      <td>1106984</td>\n",
              "    </tr>\n",
              "    <tr>\n",
              "      <th>4</th>\n",
              "      <td>Pulp Fiction</td>\n",
              "      <td>Crime</td>\n",
              "      <td>1994</td>\n",
              "      <td>8.9</td>\n",
              "      <td>Quentin Tarantino</td>\n",
              "      <td>1792527</td>\n",
              "    </tr>\n",
              "  </tbody>\n",
              "</table>\n",
              "</div>"
            ],
            "text/plain": [
              "                     Movies   Genre  ...              Director    Votes\n",
              "0  The Shawshank Redemption   Drama  ...        Frank Darabont  2295357\n",
              "1             The Godfather   Crime  ...  Francis Ford Coppola  1584430\n",
              "2           The Dark Knight  Action  ...     Christopher Nolan  2260143\n",
              "3    The Godfather: Part II   Crime  ...  Francis Ford Coppola  1106984\n",
              "4              Pulp Fiction   Crime  ...     Quentin Tarantino  1792527\n",
              "\n",
              "[5 rows x 6 columns]"
            ]
          },
          "metadata": {
            "tags": []
          },
          "execution_count": 26
        }
      ]
    },
    {
      "cell_type": "code",
      "metadata": {
        "id": "3zxq3E6zQHd5",
        "outputId": "a4794ba7-1eb9-45c2-bfe1-410383f40de1",
        "colab": {
          "base_uri": "https://localhost:8080/",
          "height": 136
        }
      },
      "source": [
        "df.dtypes"
      ],
      "execution_count": 27,
      "outputs": [
        {
          "output_type": "execute_result",
          "data": {
            "text/plain": [
              "Movies        object\n",
              "Genre       category\n",
              "Year           int64\n",
              "Ratings      float64\n",
              "Director      object\n",
              "Votes          int64\n",
              "dtype: object"
            ]
          },
          "metadata": {
            "tags": []
          },
          "execution_count": 27
        }
      ]
    },
    {
      "cell_type": "code",
      "metadata": {
        "id": "VqJtzMPAQ5gg",
        "outputId": "927ba2c8-60aa-40f0-b161-804316bac82a",
        "colab": {
          "base_uri": "https://localhost:8080/",
          "height": 238
        }
      },
      "source": [
        "df.info()"
      ],
      "execution_count": 28,
      "outputs": [
        {
          "output_type": "stream",
          "text": [
            "<class 'pandas.core.frame.DataFrame'>\n",
            "RangeIndex: 250 entries, 0 to 249\n",
            "Data columns (total 6 columns):\n",
            " #   Column    Non-Null Count  Dtype   \n",
            "---  ------    --------------  -----   \n",
            " 0   Movies    250 non-null    object  \n",
            " 1   Genre     250 non-null    category\n",
            " 2   Year      250 non-null    int64   \n",
            " 3   Ratings   250 non-null    float64 \n",
            " 4   Director  250 non-null    object  \n",
            " 5   Votes     250 non-null    int64   \n",
            "dtypes: category(1), float64(1), int64(2), object(2)\n",
            "memory usage: 10.5+ KB\n"
          ],
          "name": "stdout"
        }
      ]
    },
    {
      "cell_type": "markdown",
      "metadata": {
        "id": "7UOhkQE_dbMS"
      },
      "source": [
        "### Question #1"
      ]
    },
    {
      "cell_type": "code",
      "metadata": {
        "id": "aurynPHTREgo",
        "outputId": "65da2a65-7b79-43fa-d97d-27f636a7bdd0",
        "colab": {
          "base_uri": "https://localhost:8080/",
          "height": 68
        }
      },
      "source": [
        "# Question #1\n",
        "min_value_votes=df['Votes'].idxmin()\n",
        "Min_voted_movie=df['Movies']\n",
        "print('Minimum votes:',Min_voted_movie[min_value_votes])\n",
        "print('--------------------------------------------------------------------')\n",
        "max_value_votes=df['Votes'].idxmax()\n",
        "Max_voted_movie=df['Movies']\n",
        "print('Maximum votes :',Max_voted_movie[max_value_votes])"
      ],
      "execution_count": 29,
      "outputs": [
        {
          "output_type": "stream",
          "text": [
            "Minimum votes: Zulu\n",
            "--------------------------------------------------------------------\n",
            "Maximum votes : The Shawshank Redemption\n"
          ],
          "name": "stdout"
        }
      ]
    },
    {
      "cell_type": "code",
      "metadata": {
        "id": "wzFrRnwno0gy",
        "outputId": "852febbe-43b9-415d-80fd-d887e8604cdf",
        "colab": {
          "base_uri": "https://localhost:8080/",
          "height": 34
        }
      },
      "source": [
        "df.Genre.value_counts().values"
      ],
      "execution_count": 30,
      "outputs": [
        {
          "output_type": "execute_result",
          "data": {
            "text/plain": [
              "array([67, 46, 33, 27, 24, 21, 19,  4,  4,  3,  2])"
            ]
          },
          "metadata": {
            "tags": []
          },
          "execution_count": 30
        }
      ]
    },
    {
      "cell_type": "markdown",
      "metadata": {
        "id": "1G8OIaFndhRo"
      },
      "source": [
        "### Question #2"
      ]
    },
    {
      "cell_type": "code",
      "metadata": {
        "id": "IZELNIMrStxg",
        "outputId": "0b67b6ed-de47-440f-9c61-e74fcbbc9367",
        "colab": {
          "base_uri": "https://localhost:8080/",
          "height": 612
        }
      },
      "source": [
        "# Question #2\n",
        "\n",
        "warnings.filterwarnings('ignore')\n",
        "sns.set(rc={'figure.figsize':(12,10)})\n",
        "sns.barplot(df.Genre.unique(),df.Genre.value_counts().values)\n",
        "print('Bar plot of Genre vs. Movie Count')"
      ],
      "execution_count": 31,
      "outputs": [
        {
          "output_type": "stream",
          "text": [
            "Bar plot of Genre vs. Movie Count\n"
          ],
          "name": "stdout"
        },
        {
          "output_type": "display_data",
          "data": {
            "image/png": "[encoded data removed]",
            "text/plain": [
              "<Figure size 864x720 with 1 Axes>"
            ]
          },
          "metadata": {
            "tags": []
          }
        }
      ]
    },
    {
      "cell_type": "markdown",
      "metadata": {
        "id": "7pC4DI1edniG"
      },
      "source": [
        "### Question #3"
      ]
    },
    {
      "cell_type": "code",
      "metadata": {
        "id": "Y6RXPzxqo3cv",
        "outputId": "bb11b85e-d9c8-4640-8155-b987434e7fc4",
        "colab": {
          "base_uri": "https://localhost:8080/",
          "height": 153
        }
      },
      "source": [
        "# Question #3\n",
        "print('Top 5 Directors with the most number of movies in the Top 250 List.')\n",
        "print('--------------------------------------------------------------------')\n",
        "print(df['Director'].value_counts().head(5))"
      ],
      "execution_count": 32,
      "outputs": [
        {
          "output_type": "stream",
          "text": [
            "Top 5 Directors with the most number of movies in the Top 250 List.\n",
            "--------------------------------------------------------------------\n",
            "Steven Spielberg     7\n",
            "Christopher Nolan    7\n",
            "Martin Scorsese      7\n",
            "Stanley Kubrick      7\n",
            "Alfred Hitchcock     6\n",
            "Name: Director, dtype: int64\n"
          ],
          "name": "stdout"
        }
      ]
    },
    {
      "cell_type": "markdown",
      "metadata": {
        "id": "8-KPjgiwdsXe"
      },
      "source": [
        "## 2.  Database access"
      ]
    },
    {
      "cell_type": "code",
      "metadata": {
        "id": "uMtSwNolUdOh"
      },
      "source": [
        "# The Project ID\n",
        "project_id = 'home-work-292118'\n"
      ],
      "execution_count": 33,
      "outputs": []
    },
    {
      "cell_type": "code",
      "metadata": {
        "id": "WvgzsQVLUd_U",
        "outputId": "f9376a69-047d-4dd9-a0a3-20646f83c475",
        "colab": {
          "base_uri": "https://localhost:8080/",
          "height": 34
        }
      },
      "source": [
        "from google.colab import auth\n",
        "auth.authenticate_user()\n",
        "print('Authenticated')\n",
        "import pandas as pd\n"
      ],
      "execution_count": 34,
      "outputs": [
        {
          "output_type": "stream",
          "text": [
            "Authenticated\n"
          ],
          "name": "stdout"
        }
      ]
    },
    {
      "cell_type": "markdown",
      "metadata": {
        "id": "vv5sToj_eJJv"
      },
      "source": [
        "### QUESTION #1 TO FIND THE 40 MOST frequent storm event types between years 1950 and 2000"
      ]
    },
    {
      "cell_type": "code",
      "metadata": {
        "id": "8cJ6ALgeUeaU"
      },
      "source": [
        "df_noaa = pd.io.gbq.read_gbq('''SELECT\n",
        "  LOWER(event_type) as Event_Type,\n",
        "  COUNT(event_id) as Count_Storms\n",
        "FROM\n",
        "  `bigquery-public-data.noaa_historic_severe_storms.storms_*`\n",
        "WHERE\n",
        "  _TABLE_SUFFIX BETWEEN '1950' AND '1999'\n",
        "GROUP BY\n",
        "  event_type\n",
        "ORDER BY\n",
        "  count_storms desc\n",
        "LIMIT 40\n",
        "''',project_id,dialect='standard')"
      ],
      "execution_count": 35,
      "outputs": []
    },
    {
      "cell_type": "code",
      "metadata": {
        "id": "jtcJbDLaUeRv",
        "outputId": "2a8cfd75-e86a-4fb8-90a4-b63e916d10c3",
        "colab": {
          "base_uri": "https://localhost:8080/",
          "height": 204
        }
      },
      "source": [
        "df_noaa.head()"
      ],
      "execution_count": 36,
      "outputs": [
        {
          "output_type": "execute_result",
          "data": {
            "text/html": [
              "<div>\n",
              "<style scoped>\n",
              "    .dataframe tbody tr th:only-of-type {\n",
              "        vertical-align: middle;\n",
              "    }\n",
              "\n",
              "    .dataframe tbody tr th {\n",
              "        vertical-align: top;\n",
              "    }\n",
              "\n",
              "    .dataframe thead th {\n",
              "        text-align: right;\n",
              "    }\n",
              "</style>\n",
              "<table border=\"1\" class=\"dataframe\">\n",
              "  <thead>\n",
              "    <tr style=\"text-align: right;\">\n",
              "      <th></th>\n",
              "      <th>Event_Type</th>\n",
              "      <th>Count_Storms</th>\n",
              "    </tr>\n",
              "  </thead>\n",
              "  <tbody>\n",
              "    <tr>\n",
              "      <th>0</th>\n",
              "      <td>thunderstorm wind</td>\n",
              "      <td>157465</td>\n",
              "    </tr>\n",
              "    <tr>\n",
              "      <th>1</th>\n",
              "      <td>hail</td>\n",
              "      <td>123269</td>\n",
              "    </tr>\n",
              "    <tr>\n",
              "      <th>2</th>\n",
              "      <td>tornado</td>\n",
              "      <td>43033</td>\n",
              "    </tr>\n",
              "    <tr>\n",
              "      <th>3</th>\n",
              "      <td>flash flood</td>\n",
              "      <td>12429</td>\n",
              "    </tr>\n",
              "    <tr>\n",
              "      <th>4</th>\n",
              "      <td>heavy snow</td>\n",
              "      <td>11959</td>\n",
              "    </tr>\n",
              "  </tbody>\n",
              "</table>\n",
              "</div>"
            ],
            "text/plain": [
              "          Event_Type  Count_Storms\n",
              "0  thunderstorm wind        157465\n",
              "1               hail        123269\n",
              "2            tornado         43033\n",
              "3        flash flood         12429\n",
              "4         heavy snow         11959"
            ]
          },
          "metadata": {
            "tags": []
          },
          "execution_count": 36
        }
      ]
    },
    {
      "cell_type": "code",
      "metadata": {
        "id": "hYkeib80Ud2W",
        "outputId": "06684b34-ae48-4a17-eccd-89f86d7152e0",
        "colab": {
          "base_uri": "https://localhost:8080/",
          "height": 731
        }
      },
      "source": [
        "noaa_storms=df_noaa.Event_Type\n",
        "print('40 most frequent storm event types between years 1950 and 2000')\n",
        "print('----------------------')\n",
        "for i in range(0,40):\n",
        "  print(noaa_storms[i])"
      ],
      "execution_count": 37,
      "outputs": [
        {
          "output_type": "stream",
          "text": [
            "40 most frequent storm event types between years 1950 and 2000\n",
            "----------------------\n",
            "thunderstorm wind\n",
            "hail\n",
            "tornado\n",
            "flash flood\n",
            "heavy snow\n",
            "high wind\n",
            "winter storm\n",
            "flood\n",
            "drought\n",
            "cold/wind chill\n",
            "heat\n",
            "winter weather\n",
            "lightning\n",
            "ice storm\n",
            "blizzard\n",
            "heavy rain\n",
            "strong wind\n",
            "dense fog\n",
            "funnel cloud\n",
            "high surf\n",
            "waterspout\n",
            "hurricane (typhoon)\n",
            "wildfire\n",
            "coastal flood\n",
            "tropical storm\n",
            "frost/freeze\n",
            "lake-effect snow\n",
            "storm surge/tide\n",
            "rip current\n",
            "sleet\n",
            "avalanche\n",
            "debris flow\n",
            "dust storm\n",
            "dust devil\n",
            "freezing fog\n",
            "seiche\n",
            "astronomical low tide\n",
            "volcanic ash\n",
            "marine high wind\n",
            "thunderstorm wind/ trees\n"
          ],
          "name": "stdout"
        }
      ]
    },
    {
      "cell_type": "code",
      "metadata": {
        "id": "yaheEFK3UdAu",
        "outputId": "60f39383-417f-4c8e-fb06-8cc6038b17e1",
        "colab": {
          "base_uri": "https://localhost:8080/",
          "height": 34
        }
      },
      "source": [
        "print('The top event type is:',noaa_storms[0])"
      ],
      "execution_count": 38,
      "outputs": [
        {
          "output_type": "stream",
          "text": [
            "The top event type is: thunderstorm wind\n"
          ],
          "name": "stdout"
        }
      ]
    },
    {
      "cell_type": "markdown",
      "metadata": {
        "id": "UkCFs6bTebSk"
      },
      "source": [
        "### QUESTION #2\n",
        "Bar Plot of tornados over each of the five decades, 1950s, 1960s, 1970s, 1980s, and 1990s"
      ]
    },
    {
      "cell_type": "code",
      "metadata": {
        "id": "cVNzNDPXVnlm"
      },
      "source": [
        "df_tornado = pd.io.gbq.read_gbq('''SELECT\n",
        "  LOWER(event_type) as event_type,\n",
        "  event_begin_time as Date_Time,\n",
        "  event_id as event_id\n",
        "  \n",
        "FROM\n",
        "  `bigquery-public-data.noaa_historic_severe_storms.storms_*`\n",
        "WHERE\n",
        "  _TABLE_SUFFIX BETWEEN '1950' AND '2000' AND lower(event_type) = 'tornado'\n",
        "\n",
        "ORDER BY\n",
        "event_begin_time \n",
        "\n",
        "''',project_id,dialect='standard')\n"
      ],
      "execution_count": 39,
      "outputs": []
    },
    {
      "cell_type": "code",
      "metadata": {
        "id": "eYmMsQ8GVsgJ",
        "outputId": "af025a7c-3774-42f4-8fa3-b1eabd15794f",
        "colab": {
          "base_uri": "https://localhost:8080/",
          "height": 204
        }
      },
      "source": [
        "df_tornado.head()"
      ],
      "execution_count": 40,
      "outputs": [
        {
          "output_type": "execute_result",
          "data": {
            "text/html": [
              "<div>\n",
              "<style scoped>\n",
              "    .dataframe tbody tr th:only-of-type {\n",
              "        vertical-align: middle;\n",
              "    }\n",
              "\n",
              "    .dataframe tbody tr th {\n",
              "        vertical-align: top;\n",
              "    }\n",
              "\n",
              "    .dataframe thead th {\n",
              "        text-align: right;\n",
              "    }\n",
              "</style>\n",
              "<table border=\"1\" class=\"dataframe\">\n",
              "  <thead>\n",
              "    <tr style=\"text-align: right;\">\n",
              "      <th></th>\n",
              "      <th>event_type</th>\n",
              "      <th>Date_Time</th>\n",
              "      <th>event_id</th>\n",
              "    </tr>\n",
              "  </thead>\n",
              "  <tbody>\n",
              "    <tr>\n",
              "      <th>0</th>\n",
              "      <td>tornado</td>\n",
              "      <td>1950-01-03 11:00:00</td>\n",
              "      <td>10063615</td>\n",
              "    </tr>\n",
              "    <tr>\n",
              "      <th>1</th>\n",
              "      <td>tornado</td>\n",
              "      <td>1950-01-03 11:10:00</td>\n",
              "      <td>10009710</td>\n",
              "    </tr>\n",
              "    <tr>\n",
              "      <th>2</th>\n",
              "      <td>tornado</td>\n",
              "      <td>1950-01-03 11:55:00</td>\n",
              "      <td>10009711</td>\n",
              "    </tr>\n",
              "    <tr>\n",
              "      <th>3</th>\n",
              "      <td>tornado</td>\n",
              "      <td>1950-01-03 16:00:00</td>\n",
              "      <td>10086808</td>\n",
              "    </tr>\n",
              "    <tr>\n",
              "      <th>4</th>\n",
              "      <td>tornado</td>\n",
              "      <td>1950-01-13 05:25:00</td>\n",
              "      <td>9981922</td>\n",
              "    </tr>\n",
              "  </tbody>\n",
              "</table>\n",
              "</div>"
            ],
            "text/plain": [
              "  event_type           Date_Time  event_id\n",
              "0    tornado 1950-01-03 11:00:00  10063615\n",
              "1    tornado 1950-01-03 11:10:00  10009710\n",
              "2    tornado 1950-01-03 11:55:00  10009711\n",
              "3    tornado 1950-01-03 16:00:00  10086808\n",
              "4    tornado 1950-01-13 05:25:00   9981922"
            ]
          },
          "metadata": {
            "tags": []
          },
          "execution_count": 40
        }
      ]
    },
    {
      "cell_type": "code",
      "metadata": {
        "id": "s2h_ahaAWPkA"
      },
      "source": [
        "counts =df_tornado.groupby(df_tornado['Date_Time'].dt.year)['event_type'].agg(['count'])"
      ],
      "execution_count": 41,
      "outputs": []
    },
    {
      "cell_type": "code",
      "metadata": {
        "id": "n-F8dAdZWiCQ",
        "outputId": "695ed031-a478-4c0a-f9ef-5104f60cf063",
        "colab": {
          "base_uri": "https://localhost:8080/",
          "height": 34
        }
      },
      "source": [
        "counts.head()\n",
        "N=10\n",
        "d=counts.groupby(counts.index//N).sum()\n",
        "d=d[:-1]\n",
        "count_tornado=d\n",
        "count_tornado=count_tornado.values.tolist()\n",
        "count_tornado"
      ],
      "execution_count": 42,
      "outputs": [
        {
          "output_type": "execute_result",
          "data": {
            "text/plain": [
              "[[5232], [7270], [9371], [9008], [12152]]"
            ]
          },
          "metadata": {
            "tags": []
          },
          "execution_count": 42
        }
      ]
    },
    {
      "cell_type": "markdown",
      "metadata": {
        "id": "Qz9Ijr-WXMRE"
      },
      "source": [
        "- Insipration from this question in stack over flow\n",
        "- https://stackoverflow.com/questions/952914/how-to-make-a-flat-list-out-of-list-of-lists\n"
      ]
    },
    {
      "cell_type": "code",
      "metadata": {
        "id": "XVy_JMMmWir0"
      },
      "source": [
        "# creating into a simple list without extra []\n",
        "tornado_list = []\n",
        "for i in count_tornado:\n",
        "    for j in i:\n",
        "        tornado_list.append(j)\n",
        "year=[1950,1960,1970,1980,1990]       "
      ],
      "execution_count": 43,
      "outputs": []
    },
    {
      "cell_type": "code",
      "metadata": {
        "id": "o4PRT6PKZDin",
        "outputId": "d739f239-4dda-41e6-fe23-2ee68f29ef02",
        "colab": {
          "base_uri": "https://localhost:8080/",
          "height": 34
        }
      },
      "source": [
        "tornado_list"
      ],
      "execution_count": 44,
      "outputs": [
        {
          "output_type": "execute_result",
          "data": {
            "text/plain": [
              "[5232, 7270, 9371, 9008, 12152]"
            ]
          },
          "metadata": {
            "tags": []
          },
          "execution_count": 44
        }
      ]
    },
    {
      "cell_type": "code",
      "metadata": {
        "id": "Wj8XrqEZW1z8",
        "outputId": "242e0dcd-3e4f-4116-8af8-afface84987d",
        "colab": {
          "base_uri": "https://localhost:8080/",
          "height": 611
        }
      },
      "source": [
        "\n",
        "warnings.filterwarnings('ignore')\n",
        "sns.set(rc={'figure.figsize':(12,10)})\n",
        "sns.barplot(year,tornado_list)\n",
        "print('Bar Plot of tornados over each of the five decades, 1950s, 1960s, 1970s, 1980s, and 1990s.')"
      ],
      "execution_count": 45,
      "outputs": [
        {
          "output_type": "stream",
          "text": [
            "Bar Plot of tornados over each of the five decades, 1950s, 1960s, 1970s, 1980s, and 1990s.\n"
          ],
          "name": "stdout"
        },
        {
          "output_type": "display_data",
          "data": {
            "image/png": "[encoded data removed]",
            "text/plain": [
              "<Figure size 864x720 with 1 Axes>"
            ]
          },
          "metadata": {
            "tags": []
          }
        }
      ]
    },
    {
      "cell_type": "markdown",
      "metadata": {
        "id": "WX5TGmCqelah"
      },
      "source": [
        "## File download: "
      ]
    },
    {
      "cell_type": "code",
      "metadata": {
        "id": "LZAxVyr0Xkl2",
        "outputId": "dc7e000d-236d-4d1d-b826-d9e2f80bbf83",
        "colab": {
          "base_uri": "https://localhost:8080/",
          "height": 34
        }
      },
      "source": [
        "from google.colab import drive \n",
        "drive.mount('/content/drive')\n"
      ],
      "execution_count": 46,
      "outputs": [
        {
          "output_type": "stream",
          "text": [
            "Mounted at /content/drive\n"
          ],
          "name": "stdout"
        }
      ]
    },
    {
      "cell_type": "code",
      "metadata": {
        "id": "M-y2GASqZ47E"
      },
      "source": [
        "df_polls=pd.read_csv('/content/drive/My Drive/ECS189L/president_primary_polls.csv')"
      ],
      "execution_count": 47,
      "outputs": []
    },
    {
      "cell_type": "code",
      "metadata": {
        "id": "3EiOrvgcaIh9",
        "outputId": "7feb2253-319c-4fa3-8f0f-d228226234b4",
        "colab": {
          "base_uri": "https://localhost:8080/",
          "height": 309
        }
      },
      "source": [
        "df_polls.head()"
      ],
      "execution_count": 48,
      "outputs": [
        {
          "output_type": "execute_result",
          "data": {
            "text/html": [
              "<div>\n",
              "<style scoped>\n",
              "    .dataframe tbody tr th:only-of-type {\n",
              "        vertical-align: middle;\n",
              "    }\n",
              "\n",
              "    .dataframe tbody tr th {\n",
              "        vertical-align: top;\n",
              "    }\n",
              "\n",
              "    .dataframe thead th {\n",
              "        text-align: right;\n",
              "    }\n",
              "</style>\n",
              "<table border=\"1\" class=\"dataframe\">\n",
              "  <thead>\n",
              "    <tr style=\"text-align: right;\">\n",
              "      <th></th>\n",
              "      <th>question_id</th>\n",
              "      <th>poll_id</th>\n",
              "      <th>cycle</th>\n",
              "      <th>state</th>\n",
              "      <th>pollster_id</th>\n",
              "      <th>pollster</th>\n",
              "      <th>sponsor_ids</th>\n",
              "      <th>sponsors</th>\n",
              "      <th>display_name</th>\n",
              "      <th>pollster_rating_id</th>\n",
              "      <th>pollster_rating_name</th>\n",
              "      <th>fte_grade</th>\n",
              "      <th>sample_size</th>\n",
              "      <th>population</th>\n",
              "      <th>population_full</th>\n",
              "      <th>methodology</th>\n",
              "      <th>office_type</th>\n",
              "      <th>start_date</th>\n",
              "      <th>end_date</th>\n",
              "      <th>sponsor_candidate</th>\n",
              "      <th>internal</th>\n",
              "      <th>partisan</th>\n",
              "      <th>tracking</th>\n",
              "      <th>nationwide_batch</th>\n",
              "      <th>created_at</th>\n",
              "      <th>notes</th>\n",
              "      <th>url</th>\n",
              "      <th>stage</th>\n",
              "      <th>party</th>\n",
              "      <th>answer</th>\n",
              "      <th>candidate_id</th>\n",
              "      <th>candidate_name</th>\n",
              "      <th>pct</th>\n",
              "    </tr>\n",
              "  </thead>\n",
              "  <tbody>\n",
              "    <tr>\n",
              "      <th>0</th>\n",
              "      <td>127126</td>\n",
              "      <td>67903</td>\n",
              "      <td>2020</td>\n",
              "      <td>NaN</td>\n",
              "      <td>552</td>\n",
              "      <td>Winston Group</td>\n",
              "      <td>NaN</td>\n",
              "      <td>NaN</td>\n",
              "      <td>Winston Group</td>\n",
              "      <td>385.0</td>\n",
              "      <td>Winston Group</td>\n",
              "      <td>B/C</td>\n",
              "      <td>NaN</td>\n",
              "      <td>rv</td>\n",
              "      <td>rv-d</td>\n",
              "      <td>Live Phone</td>\n",
              "      <td>U.S. President</td>\n",
              "      <td>4/27/20</td>\n",
              "      <td>4/28/20</td>\n",
              "      <td>NaN</td>\n",
              "      <td>False</td>\n",
              "      <td>NaN</td>\n",
              "      <td>False</td>\n",
              "      <td>False</td>\n",
              "      <td>8/4/20 17:22</td>\n",
              "      <td>NaN</td>\n",
              "      <td>https://www.winningtheissues.org/wp-content/up...</td>\n",
              "      <td>primary</td>\n",
              "      <td>DEM</td>\n",
              "      <td>Biden</td>\n",
              "      <td>13256</td>\n",
              "      <td>Joseph R. Biden Jr.</td>\n",
              "      <td>54.00</td>\n",
              "    </tr>\n",
              "    <tr>\n",
              "      <th>1</th>\n",
              "      <td>127126</td>\n",
              "      <td>67903</td>\n",
              "      <td>2020</td>\n",
              "      <td>NaN</td>\n",
              "      <td>552</td>\n",
              "      <td>Winston Group</td>\n",
              "      <td>NaN</td>\n",
              "      <td>NaN</td>\n",
              "      <td>Winston Group</td>\n",
              "      <td>385.0</td>\n",
              "      <td>Winston Group</td>\n",
              "      <td>B/C</td>\n",
              "      <td>NaN</td>\n",
              "      <td>rv</td>\n",
              "      <td>rv-d</td>\n",
              "      <td>Live Phone</td>\n",
              "      <td>U.S. President</td>\n",
              "      <td>4/27/20</td>\n",
              "      <td>4/28/20</td>\n",
              "      <td>NaN</td>\n",
              "      <td>False</td>\n",
              "      <td>NaN</td>\n",
              "      <td>False</td>\n",
              "      <td>False</td>\n",
              "      <td>8/4/20 17:22</td>\n",
              "      <td>NaN</td>\n",
              "      <td>https://www.winningtheissues.org/wp-content/up...</td>\n",
              "      <td>primary</td>\n",
              "      <td>DEM</td>\n",
              "      <td>Sanders</td>\n",
              "      <td>13257</td>\n",
              "      <td>Bernard Sanders</td>\n",
              "      <td>17.00</td>\n",
              "    </tr>\n",
              "    <tr>\n",
              "      <th>2</th>\n",
              "      <td>122156</td>\n",
              "      <td>65938</td>\n",
              "      <td>2020</td>\n",
              "      <td>NaN</td>\n",
              "      <td>1102</td>\n",
              "      <td>Emerson College</td>\n",
              "      <td>NaN</td>\n",
              "      <td>NaN</td>\n",
              "      <td>Emerson College</td>\n",
              "      <td>88.0</td>\n",
              "      <td>Emerson College</td>\n",
              "      <td>A-</td>\n",
              "      <td>479.0</td>\n",
              "      <td>lv</td>\n",
              "      <td>lv-d</td>\n",
              "      <td>IVR/Online</td>\n",
              "      <td>U.S. President</td>\n",
              "      <td>4/26/20</td>\n",
              "      <td>4/28/20</td>\n",
              "      <td>NaN</td>\n",
              "      <td>False</td>\n",
              "      <td>NaN</td>\n",
              "      <td>False</td>\n",
              "      <td>False</td>\n",
              "      <td>4/28/20 19:01</td>\n",
              "      <td>NaN</td>\n",
              "      <td>https://emersonpolling.reportablenews.com/pr/a...</td>\n",
              "      <td>primary</td>\n",
              "      <td>DEM</td>\n",
              "      <td>Biden</td>\n",
              "      <td>13256</td>\n",
              "      <td>Joseph R. Biden Jr.</td>\n",
              "      <td>67.98</td>\n",
              "    </tr>\n",
              "    <tr>\n",
              "      <th>3</th>\n",
              "      <td>122156</td>\n",
              "      <td>65938</td>\n",
              "      <td>2020</td>\n",
              "      <td>NaN</td>\n",
              "      <td>1102</td>\n",
              "      <td>Emerson College</td>\n",
              "      <td>NaN</td>\n",
              "      <td>NaN</td>\n",
              "      <td>Emerson College</td>\n",
              "      <td>88.0</td>\n",
              "      <td>Emerson College</td>\n",
              "      <td>A-</td>\n",
              "      <td>479.0</td>\n",
              "      <td>lv</td>\n",
              "      <td>lv-d</td>\n",
              "      <td>IVR/Online</td>\n",
              "      <td>U.S. President</td>\n",
              "      <td>4/26/20</td>\n",
              "      <td>4/28/20</td>\n",
              "      <td>NaN</td>\n",
              "      <td>False</td>\n",
              "      <td>NaN</td>\n",
              "      <td>False</td>\n",
              "      <td>False</td>\n",
              "      <td>4/28/20 19:01</td>\n",
              "      <td>NaN</td>\n",
              "      <td>https://emersonpolling.reportablenews.com/pr/a...</td>\n",
              "      <td>primary</td>\n",
              "      <td>DEM</td>\n",
              "      <td>Sanders</td>\n",
              "      <td>13257</td>\n",
              "      <td>Bernard Sanders</td>\n",
              "      <td>23.66</td>\n",
              "    </tr>\n",
              "    <tr>\n",
              "      <th>4</th>\n",
              "      <td>121552</td>\n",
              "      <td>65756</td>\n",
              "      <td>2020</td>\n",
              "      <td>NaN</td>\n",
              "      <td>568</td>\n",
              "      <td>YouGov</td>\n",
              "      <td>352</td>\n",
              "      <td>Economist</td>\n",
              "      <td>YouGov</td>\n",
              "      <td>391.0</td>\n",
              "      <td>YouGov</td>\n",
              "      <td>B</td>\n",
              "      <td>585.0</td>\n",
              "      <td>lv</td>\n",
              "      <td>lv-d</td>\n",
              "      <td>Online</td>\n",
              "      <td>U.S. President</td>\n",
              "      <td>4/12/20</td>\n",
              "      <td>4/14/20</td>\n",
              "      <td>NaN</td>\n",
              "      <td>False</td>\n",
              "      <td>NaN</td>\n",
              "      <td>False</td>\n",
              "      <td>False</td>\n",
              "      <td>4/15/20 09:11</td>\n",
              "      <td>NaN</td>\n",
              "      <td>https://docs.cdn.yougov.com/6fdl23u606/econTab...</td>\n",
              "      <td>primary</td>\n",
              "      <td>DEM</td>\n",
              "      <td>Biden</td>\n",
              "      <td>13256</td>\n",
              "      <td>Joseph R. Biden Jr.</td>\n",
              "      <td>49.00</td>\n",
              "    </tr>\n",
              "  </tbody>\n",
              "</table>\n",
              "</div>"
            ],
            "text/plain": [
              "   question_id  poll_id  cycle  ... candidate_id       candidate_name    pct\n",
              "0       127126    67903   2020  ...        13256  Joseph R. Biden Jr.  54.00\n",
              "1       127126    67903   2020  ...        13257      Bernard Sanders  17.00\n",
              "2       122156    65938   2020  ...        13256  Joseph R. Biden Jr.  67.98\n",
              "3       122156    65938   2020  ...        13257      Bernard Sanders  23.66\n",
              "4       121552    65756   2020  ...        13256  Joseph R. Biden Jr.  49.00\n",
              "\n",
              "[5 rows x 33 columns]"
            ]
          },
          "metadata": {
            "tags": []
          },
          "execution_count": 48
        }
      ]
    },
    {
      "cell_type": "code",
      "metadata": {
        "id": "SJ1ndG45aNJB",
        "outputId": "4f5443a1-b097-4d4f-a485-784ba6ad6724",
        "colab": {
          "base_uri": "https://localhost:8080/",
          "height": 153
        }
      },
      "source": [
        "df_polls.columns"
      ],
      "execution_count": 49,
      "outputs": [
        {
          "output_type": "execute_result",
          "data": {
            "text/plain": [
              "Index(['question_id', 'poll_id', 'cycle', 'state', 'pollster_id', 'pollster',\n",
              "       'sponsor_ids', 'sponsors', 'display_name', 'pollster_rating_id',\n",
              "       'pollster_rating_name', 'fte_grade', 'sample_size', 'population',\n",
              "       'population_full', 'methodology', 'office_type', 'start_date',\n",
              "       'end_date', 'sponsor_candidate', 'internal', 'partisan', 'tracking',\n",
              "       'nationwide_batch', 'created_at', 'notes', 'url', 'stage', 'party',\n",
              "       'answer', 'candidate_id', 'candidate_name', 'pct'],\n",
              "      dtype='object')"
            ]
          },
          "metadata": {
            "tags": []
          },
          "execution_count": 49
        }
      ]
    },
    {
      "cell_type": "code",
      "metadata": {
        "id": "9wOxxKQyakdr",
        "outputId": "236cbca4-8b1c-4f41-eb4b-356d85b1a99e",
        "colab": {
          "base_uri": "https://localhost:8080/",
          "height": 221
        }
      },
      "source": [
        "df_polls['candidate_name'].value_counts()"
      ],
      "execution_count": 50,
      "outputs": [
        {
          "output_type": "execute_result",
          "data": {
            "text/plain": [
              "Bernard Sanders        1289\n",
              "Joseph R. Biden Jr.    1285\n",
              "Elizabeth Warren       1182\n",
              "Pete Buttigieg         1096\n",
              "Amy Klobuchar          1082\n",
              "                       ... \n",
              "Nathan Bloxham            1\n",
              "Nancy Pelosi              1\n",
              "Marco Rubio               1\n",
              "Dwayne Johnson            1\n",
              "Kyrsten Sinema            1\n",
              "Name: candidate_name, Length: 79, dtype: int64"
            ]
          },
          "metadata": {
            "tags": []
          },
          "execution_count": 50
        }
      ]
    },
    {
      "cell_type": "markdown",
      "metadata": {
        "id": "omeWSakherpW"
      },
      "source": [
        "### QUESTION #1"
      ]
    },
    {
      "cell_type": "code",
      "metadata": {
        "id": "0O70lbYRalWE",
        "outputId": "46151aa4-1e84-4845-bddf-93cd2606fbcc",
        "colab": {
          "base_uri": "https://localhost:8080/",
          "height": 68
        }
      },
      "source": [
        "print('The number of unique presidential candidates on the ballots overall:')\n",
        "print('--------------------------------------------------------------------')\n",
        "df_polls['candidate_name'].nunique()"
      ],
      "execution_count": 51,
      "outputs": [
        {
          "output_type": "stream",
          "text": [
            "The number of unique presidential candidates on the ballots overall:\n",
            "--------------------------------------------------------------------\n"
          ],
          "name": "stdout"
        },
        {
          "output_type": "execute_result",
          "data": {
            "text/plain": [
              "79"
            ]
          },
          "metadata": {
            "tags": []
          },
          "execution_count": 51
        }
      ]
    },
    {
      "cell_type": "markdown",
      "metadata": {
        "id": "qSbWlDMeevED"
      },
      "source": [
        "### QUESTION #2"
      ]
    },
    {
      "cell_type": "code",
      "metadata": {
        "id": "fAc51vhxarmk",
        "outputId": "60dc0b5a-e78e-4802-a78b-536d65ac9b83",
        "colab": {
          "base_uri": "https://localhost:8080/",
          "height": 68
        }
      },
      "source": [
        "print('The average sample size in the national polls in 2020 is:')\n",
        "print('---------------------------------------------------------')\n",
        "df_polls['sample_size'].mean()"
      ],
      "execution_count": 52,
      "outputs": [
        {
          "output_type": "stream",
          "text": [
            "The average sample size in the national polls in 2020 is:\n",
            "---------------------------------------------------------\n"
          ],
          "name": "stdout"
        },
        {
          "output_type": "execute_result",
          "data": {
            "text/plain": [
              "1594.0069626693803"
            ]
          },
          "metadata": {
            "tags": []
          },
          "execution_count": 52
        }
      ]
    }
  ]
}